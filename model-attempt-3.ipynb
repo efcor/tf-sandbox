{
  "cells": [
    {
      "cell_type": "markdown",
      "metadata": {
        "id": "view-in-github",
        "colab_type": "text"
      },
      "source": [
        "<a href=\"https://colab.research.google.com/github/efcor/tf-sandbox/blob/main/model-attempt-3.ipynb\" target=\"_parent\"><img src=\"https://colab.research.google.com/assets/colab-badge.svg\" alt=\"Open In Colab\"/></a>"
      ]
    },
    {
      "cell_type": "code",
      "source": [
        "# The tutorial I'm following seems to have some breaking changes with recent\n",
        "# versions, so force the runtime to downgrade tensorflow via uninstall and\n",
        "# reinstall. Note: requires a restart of the runtime.\n",
        "!pip uninstall tensorflow_recommenders\n",
        "!pip uninstall tensorflow\n",
        "!pip install tensorflow==2.12\n",
        "!pip install -q tensorflow_recommenders"
      ],
      "metadata": {
        "collapsed": true,
        "id": "5YtUHVchtx0k"
      },
      "execution_count": null,
      "outputs": []
    },
    {
      "cell_type": "code",
      "source": [
        "import os\n",
        "import pprint\n",
        "import tempfile\n",
        "\n",
        "from typing import Dict, Text\n",
        "\n",
        "import numpy as np\n",
        "import tensorflow as tf\n",
        "import tensorflow_datasets as tfds\n",
        "import tensorflow_recommenders as tfrs"
      ],
      "metadata": {
        "id": "AU6L7YfUiLph"
      },
      "execution_count": 1,
      "outputs": []
    },
    {
      "cell_type": "code",
      "source": [
        "print(\"TensorFlow version:\", tf.__version__)\n",
        "print(\"Recommenders version:\", tfrs.__version__)\n",
        "# Good to go if this outputs:\n",
        "# TensorFlow version: 2.12.0\n",
        "# Recommenders version: v0.7.3"
      ],
      "metadata": {
        "id": "m1uTw1bbx1ne"
      },
      "execution_count": null,
      "outputs": []
    },
    {
      "cell_type": "code",
      "source": [
        "ratings = tfds.load(\"movielens/100k-ratings\", split=\"train\")\n",
        "\n",
        "ratings = ratings.map(lambda x: {\n",
        "    \"movie_title\": x[\"movie_title\"],\n",
        "    \"user_id\": x[\"user_id\"],\n",
        "    \"user_rating\": x[\"user_rating\"]\n",
        "})"
      ],
      "metadata": {
        "id": "OoXla7lnpRV3"
      },
      "execution_count": null,
      "outputs": []
    },
    {
      "cell_type": "code",
      "source": [
        "tf.random.set_seed(42)\n",
        "shuffled = ratings.shuffle(100_000, seed=42, reshuffle_each_iteration=False)\n",
        "\n",
        "train = shuffled.take(80_000)\n",
        "test = shuffled.skip(80_000).take(20_000)"
      ],
      "metadata": {
        "id": "Vw5cZ80bjf9n"
      },
      "execution_count": 4,
      "outputs": []
    },
    {
      "cell_type": "code",
      "source": [
        "movie_titles = ratings.batch(1_000_000).map(lambda x: x[\"movie_title\"])\n",
        "user_ids = ratings.batch(1_000_000).map(lambda x: x[\"user_id\"])\n",
        "\n",
        "unique_movie_titles = np.unique(np.concatenate(list(movie_titles)))\n",
        "unique_user_ids = np.unique(np.concatenate(list(user_ids)))"
      ],
      "metadata": {
        "collapsed": true,
        "id": "2zm-0xOkj299"
      },
      "execution_count": 5,
      "outputs": []
    },
    {
      "cell_type": "code",
      "source": [
        "class RankingModel(tf.keras.Model):\n",
        "\n",
        "  def __init__(self):\n",
        "    super().__init__()\n",
        "    embedding_dimension = 32\n",
        "\n",
        "    # Compute embeddings for users.\n",
        "    self.user_embeddings = tf.keras.Sequential([\n",
        "      tf.keras.layers.StringLookup(\n",
        "        vocabulary=unique_user_ids, mask_token=None),\n",
        "      tf.keras.layers.Embedding(len(unique_user_ids) + 1, embedding_dimension)\n",
        "    ])\n",
        "\n",
        "    # Compute embeddings for movies.\n",
        "    self.movie_embeddings = tf.keras.Sequential([\n",
        "      tf.keras.layers.StringLookup(\n",
        "        vocabulary=unique_movie_titles, mask_token=None),\n",
        "      tf.keras.layers.Embedding(len(unique_movie_titles) + 1, embedding_dimension)\n",
        "    ])\n",
        "\n",
        "    # Compute predictions.\n",
        "    self.ratings = tf.keras.Sequential([\n",
        "      # Learn multiple dense layers.\n",
        "      tf.keras.layers.Dense(256, activation=\"relu\"),\n",
        "      tf.keras.layers.Dense(64, activation=\"relu\"),\n",
        "      # Make rating predictions in the final layer.\n",
        "      tf.keras.layers.Dense(1)\n",
        "  ])\n",
        "\n",
        "  def call(self, inputs):\n",
        "\n",
        "    user_id, movie_title = inputs\n",
        "\n",
        "    user_embedding = self.user_embeddings(user_id)\n",
        "    movie_embedding = self.movie_embeddings(movie_title)\n",
        "\n",
        "    return self.ratings(tf.concat([user_embedding, movie_embedding], axis=1))"
      ],
      "metadata": {
        "collapsed": true,
        "id": "cYwijbzbkEHi"
      },
      "execution_count": 6,
      "outputs": []
    },
    {
      "cell_type": "code",
      "source": [
        "RankingModel()(([\"42\"], [\"One Flew Over the Cuckoo's Nest (1975)\"]))"
      ],
      "metadata": {
        "id": "3CU7ac-qkW-l",
        "outputId": "51d83a6a-cb03-4b11-db55-cc0b232e189b",
        "colab": {
          "base_uri": "https://localhost:8080/"
        }
      },
      "execution_count": 8,
      "outputs": [
        {
          "output_type": "stream",
          "name": "stderr",
          "text": [
            "WARNING:tensorflow:Layers in a Sequential model should only have a single input tensor. Received: inputs=['42']. Consider rewriting this model with the Functional API.\n",
            "WARNING:tensorflow:Layers in a Sequential model should only have a single input tensor. Received: inputs=[\"One Flew Over the Cuckoo's Nest (1975)\"]. Consider rewriting this model with the Functional API.\n"
          ]
        },
        {
          "output_type": "execute_result",
          "data": {
            "text/plain": [
              "<tf.Tensor: shape=(1, 1), dtype=float32, numpy=array([[0.03341021]], dtype=float32)>"
            ]
          },
          "metadata": {},
          "execution_count": 8
        }
      ]
    },
    {
      "cell_type": "code",
      "source": [
        "task = tfrs.tasks.Ranking(\n",
        "  loss = tf.keras.losses.MeanSquaredError(),\n",
        "  metrics=[tf.keras.metrics.RootMeanSquaredError()]\n",
        ")"
      ],
      "metadata": {
        "id": "QiLKGHOukeFh"
      },
      "execution_count": 9,
      "outputs": []
    },
    {
      "cell_type": "code",
      "source": [
        "class MovielensModel(tfrs.models.Model):\n",
        "\n",
        "  def __init__(self):\n",
        "    super().__init__()\n",
        "    self.ranking_model: tf.keras.Model = RankingModel()\n",
        "    self.task: tf.keras.layers.Layer = tfrs.tasks.Ranking(\n",
        "      loss = tf.keras.losses.MeanSquaredError(),\n",
        "      metrics=[tf.keras.metrics.RootMeanSquaredError()]\n",
        "    )\n",
        "\n",
        "  def call(self, features: Dict[str, tf.Tensor]) -> tf.Tensor:\n",
        "    return self.ranking_model(\n",
        "        (features[\"user_id\"], features[\"movie_title\"]))\n",
        "\n",
        "  def compute_loss(self, features: Dict[Text, tf.Tensor], training=False) -> tf.Tensor:\n",
        "    labels = features.pop(\"user_rating\")\n",
        "\n",
        "    rating_predictions = self(features)\n",
        "\n",
        "    # The task computes the loss and the metrics.\n",
        "    return self.task(labels=labels, predictions=rating_predictions)"
      ],
      "metadata": {
        "id": "LU-PCpA-kprH"
      },
      "execution_count": 10,
      "outputs": []
    },
    {
      "cell_type": "code",
      "source": [
        "model = MovielensModel()\n",
        "model.compile(optimizer=tf.keras.optimizers.Adagrad(learning_rate=0.1))"
      ],
      "metadata": {
        "collapsed": true,
        "id": "6-XGHYAqkzJu"
      },
      "execution_count": 11,
      "outputs": []
    },
    {
      "cell_type": "code",
      "source": [
        "cached_train = train.shuffle(100_000).batch(8192).cache()\n",
        "cached_test = test.batch(4096).cache()"
      ],
      "metadata": {
        "id": "UEw1U4Jbk96E"
      },
      "execution_count": 12,
      "outputs": []
    },
    {
      "cell_type": "code",
      "source": [
        "model.fit(cached_train, epochs=3)"
      ],
      "metadata": {
        "id": "17IouwqTlZB2",
        "outputId": "22cffbbe-2ac0-4085-f2de-e0e21e97ffd8",
        "colab": {
          "base_uri": "https://localhost:8080/"
        }
      },
      "execution_count": 13,
      "outputs": [
        {
          "output_type": "stream",
          "name": "stdout",
          "text": [
            "Epoch 1/3\n",
            "10/10 [==============================] - 5s 69ms/step - root_mean_squared_error: 2.1082 - loss: 4.0907 - regularization_loss: 0.0000e+00 - total_loss: 4.0907\n",
            "Epoch 2/3\n",
            "10/10 [==============================] - 0s 50ms/step - root_mean_squared_error: 1.1235 - loss: 1.2652 - regularization_loss: 0.0000e+00 - total_loss: 1.2652\n",
            "Epoch 3/3\n",
            "10/10 [==============================] - 1s 53ms/step - root_mean_squared_error: 1.1203 - loss: 1.2578 - regularization_loss: 0.0000e+00 - total_loss: 1.2578\n"
          ]
        },
        {
          "output_type": "execute_result",
          "data": {
            "text/plain": [
              "<keras.callbacks.History at 0x784fae14cd60>"
            ]
          },
          "metadata": {},
          "execution_count": 13
        }
      ]
    },
    {
      "cell_type": "code",
      "source": [
        "model.evaluate(cached_test, return_dict=True)"
      ],
      "metadata": {
        "id": "M0X2p7Ral6Yc",
        "outputId": "971d7b3b-1a1f-4327-84b0-9223a657b1a8",
        "colab": {
          "base_uri": "https://localhost:8080/"
        }
      },
      "execution_count": 14,
      "outputs": [
        {
          "output_type": "stream",
          "name": "stdout",
          "text": [
            "5/5 [==============================] - 5s 19ms/step - root_mean_squared_error: 1.1158 - loss: 1.2402 - regularization_loss: 0.0000e+00 - total_loss: 1.2402\n"
          ]
        },
        {
          "output_type": "execute_result",
          "data": {
            "text/plain": [
              "{'root_mean_squared_error': 1.1158498525619507,\n",
              " 'loss': 1.2187824249267578,\n",
              " 'regularization_loss': 0,\n",
              " 'total_loss': 1.2187824249267578}"
            ]
          },
          "metadata": {},
          "execution_count": 14
        }
      ]
    },
    {
      "cell_type": "code",
      "source": [
        "test_ratings = {}\n",
        "test_movie_titles = [\"M*A*S*H (1970)\", \"Dances with Wolves (1990)\", \"Speed (1994)\"]\n",
        "for movie_title in test_movie_titles:\n",
        "  test_ratings[movie_title] = model({\n",
        "      \"user_id\": np.array([\"42\"]),\n",
        "      \"movie_title\": np.array([movie_title])\n",
        "  })\n",
        "\n",
        "print(\"Ratings:\")\n",
        "for title, score in sorted(test_ratings.items(), key=lambda x: x[1], reverse=True):\n",
        "  print(f\"{title}: {score}\")"
      ],
      "metadata": {
        "id": "KktoU8bNvi0W",
        "outputId": "3ba41af1-7e88-49e1-d2fe-b7d2ae68bfbd",
        "colab": {
          "base_uri": "https://localhost:8080/"
        }
      },
      "execution_count": 15,
      "outputs": [
        {
          "output_type": "stream",
          "name": "stdout",
          "text": [
            "Ratings:\n",
            "M*A*S*H (1970): [[3.7285259]]\n",
            "Dances with Wolves (1990): [[3.701889]]\n",
            "Speed (1994): [[3.661711]]\n"
          ]
        }
      ]
    },
    {
      "cell_type": "code",
      "source": [
        "# Export the query model. In Colab, this saves\n",
        "# to /content/movie_recommender_model\n",
        "# tf.saved_model.save(model, 'movie_recommender_model')\n",
        "\n",
        "# Load it back; can also be done in TensorFlow Serving.\n",
        "loaded = tf.saved_model.load('movie_recommender_model')\n",
        "\n",
        "loaded({\"user_id\": np.array([\"42\"]), \"movie_title\": [\"Speed (1994)\"]}).numpy()"
      ],
      "metadata": {
        "colab": {
          "base_uri": "https://localhost:8080/"
        },
        "id": "1ot6tcFjxVv1",
        "outputId": "308fc7f9-6f6f-4bcc-8e60-9ff9b0faa8bf"
      },
      "execution_count": 20,
      "outputs": [
        {
          "output_type": "execute_result",
          "data": {
            "text/plain": [
              "array([[3.661711]], dtype=float32)"
            ]
          },
          "metadata": {},
          "execution_count": 20
        }
      ]
    },
    {
      "cell_type": "code",
      "source": [
        "# Now I'm gonna try running a hundred movies through to see if it can handle it\n",
        "\n",
        "loaded = tf.saved_model.load('movie_recommender_model')\n",
        "\n",
        "my_ratings = {}\n",
        "my_movie_titles = ['Toy Story (1995)','Jumanji (1995)','Grumpier Old Men (1995)','Waiting to Exhale (1995)','Father of the Bride Part II (1995)','Heat (1995)','Sabrina (1995)','Tom and Huck (1995)','Sudden Death (1995)','GoldenEye (1995)','American President, The (1995)','Dracula: Dead and Loving It (1995)','Balto (1995)','Nixon (1995)','Cutthroat Island (1995)','Casino (1995)','Sense and Sensibility (1995)','Four Rooms (1995)','Ace Ventura: When Nature Calls (1995)','Money Train (1995)','Get Shorty (1995)','Copycat (1995)','Assassins (1995)','Powder (1995)','Leaving Las Vegas (1995)','Othello (1995)','Now and Then (1995)','Persuasion (1995)','City of Lost Children, The (Cité des enfants perdus, La) (1995)','Shanghai Triad (Yao a yao yao dao waipo qiao) (1995)','Dangerous Minds (1995)','Twelve Monkeys (a.k.a. 12 Monkeys) (1995)','Babe (1995)','Dead Man Walking (1995)','It Takes Two (1995)','Clueless (1995)','Cry, the Beloved Country (1995)','Richard III (1995)','Dead Presidents (1995)','Restoration (1995)','Mortal Kombat (1995)','To Die For (1995)','How to Make an American Quilt (1995)','Seven (a.k.a. Se7en) (1995)','Pocahontas (1995)','When Night Is Falling (1995)','Usual Suspects, The (1995)','Mighty Aphrodite (1995)','Lamerica (1994)','Big Green, The (1995)','Georgia (1995)','Home for the Holidays (1995)','Postman, The (Postino, Il) (1994)','Indian in the Cupboard, The (1995)','Eye for an Eye (1996)','Two if by Sea (1996)','Bio-Dome (1996)','Lawnmower Man 2: Beyond Cyberspace (1996)','French Twist (Gazon maudit) (1995)','Friday (1995)','From Dusk Till Dawn (1996)','Fair Game (1995)','Kicking and Screaming (1995)','Misérables, Les (1995)','Bed of Roses (1996)','Big Bully (1996)','Screamers (1995)','Nico Icon (1995)','Crossing Guard, The (1995)','Juror, The (1996)','White Balloon, The (Badkonake sefid) (1995)','Once Upon a Time... When We Were Colored (1995)','Angels and Insects (1995)','White Squall (1996)','Dunston Checks In (1996)','Black Sheep (1996)','Nick of Time (1995)','Mary Reilly (1996)','Vampire in Brooklyn (1995)','Beautiful Girls (1996)','Broken Arrow (1996)','In the Bleak Midwinter (1995)','Hate (Haine, La) (1995)','Heidi Fleiss: Hollywood Madam (1995)','City Hall (1996)','Bottle Rocket (1996)','Mr. Wrong (1996)','Unforgettable (1996)','Happy Gilmore (1996)','Bridges of Madison County, The (1995)','Nobody Loves Me (Keiner liebt mich) (1994)','Muppet Treasure Island (1996)','Catwalk (1996)','Braveheart (1995)','Taxi Driver (1976)','Rumble in the Bronx (Hont faan kui) (1995)']\n",
        "for movie_title in my_movie_titles:\n",
        "  my_ratings[movie_title] = loaded({\n",
        "      \"user_id\": np.array([\"42\"]),\n",
        "      \"movie_title\": np.array([movie_title])\n",
        "  })\n",
        "\n",
        "print(\"Ratings:\")\n",
        "for title, score in sorted(my_ratings.items(), key=lambda x: x[1], reverse=True):\n",
        "  print(f\"{title}: {score}\")"
      ],
      "metadata": {
        "id": "jITLhjat2ylQ",
        "outputId": "ba813789-7405-496b-de96-c2a35fa1a7e1",
        "colab": {
          "base_uri": "https://localhost:8080/"
        }
      },
      "execution_count": 30,
      "outputs": [
        {
          "output_type": "stream",
          "name": "stdout",
          "text": [
            "Ratings:\n",
            "Toy Story (1995): [[3.8321712]]\n",
            "Home for the Holidays (1995): [[3.787597]]\n",
            "Lamerica (1994): [[3.7804246]]\n",
            "It Takes Two (1995): [[3.7770407]]\n",
            "Big Green, The (1995): [[3.7732425]]\n",
            "Black Sheep (1996): [[3.773119]]\n",
            "Friday (1995): [[3.7719495]]\n",
            "Lawnmower Man 2: Beyond Cyberspace (1996): [[3.7693706]]\n",
            "Usual Suspects, The (1995): [[3.7640471]]\n",
            "Braveheart (1995): [[3.7551987]]\n",
            "Persuasion (1995): [[3.7526698]]\n",
            "City of Lost Children, The (Cité des enfants perdus, La) (1995): [[3.7524958]]\n",
            "Twelve Monkeys (a.k.a. 12 Monkeys) (1995): [[3.7524958]]\n",
            "Seven (a.k.a. Se7en) (1995): [[3.7524958]]\n",
            "Postman, The (Postino, Il) (1994): [[3.7524958]]\n",
            "White Balloon, The (Badkonake sefid) (1995): [[3.7524958]]\n",
            "Heidi Fleiss: Hollywood Madam (1995): [[3.7524958]]\n",
            "Catwalk (1996): [[3.7524958]]\n",
            "Rumble in the Bronx (Hont faan kui) (1995): [[3.7524958]]\n",
            "GoldenEye (1995): [[3.7504501]]\n",
            "Sense and Sensibility (1995): [[3.7501266]]\n",
            "Taxi Driver (1976): [[3.749487]]\n",
            "Big Bully (1996): [[3.7461853]]\n",
            "Waiting to Exhale (1995): [[3.7445488]]\n",
            "When Night Is Falling (1995): [[3.7441528]]\n",
            "Bed of Roses (1996): [[3.7425084]]\n",
            "Richard III (1995): [[3.740432]]\n",
            "Othello (1995): [[3.7383564]]\n",
            "Balto (1995): [[3.7380068]]\n",
            "Mary Reilly (1996): [[3.7315385]]\n",
            "Sabrina (1995): [[3.7305822]]\n",
            "Juror, The (1996): [[3.7305262]]\n",
            "Cry, the Beloved Country (1995): [[3.730285]]\n",
            "Georgia (1995): [[3.7286417]]\n",
            "Kicking and Screaming (1995): [[3.7262733]]\n",
            "Indian in the Cupboard, The (1995): [[3.7261524]]\n",
            "Tom and Huck (1995): [[3.724777]]\n",
            "From Dusk Till Dawn (1996): [[3.7245307]]\n",
            "City Hall (1996): [[3.72353]]\n",
            "Cutthroat Island (1995): [[3.7202137]]\n",
            "Mortal Kombat (1995): [[3.7182992]]\n",
            "Now and Then (1995): [[3.716845]]\n",
            "Bottle Rocket (1996): [[3.7152236]]\n",
            "Crossing Guard, The (1995): [[3.7151988]]\n",
            "Dunston Checks In (1996): [[3.7141461]]\n",
            "Mighty Aphrodite (1995): [[3.7136984]]\n",
            "In the Bleak Midwinter (1995): [[3.7136576]]\n",
            "Shanghai Triad (Yao a yao yao dao waipo qiao) (1995): [[3.7127013]]\n",
            "Nobody Loves Me (Keiner liebt mich) (1994): [[3.711392]]\n",
            "American President, The (1995): [[3.706905]]\n",
            "Broken Arrow (1996): [[3.7067158]]\n",
            "Nixon (1995): [[3.7046878]]\n",
            "Happy Gilmore (1996): [[3.7031376]]\n",
            "Grumpier Old Men (1995): [[3.7024155]]\n",
            "Hate (Haine, La) (1995): [[3.7019362]]\n",
            "Fair Game (1995): [[3.701876]]\n",
            "Babe (1995): [[3.7003164]]\n",
            "How to Make an American Quilt (1995): [[3.700056]]\n",
            "Once Upon a Time... When We Were Colored (1995): [[3.6995752]]\n",
            "Dracula: Dead and Loving It (1995): [[3.6993778]]\n",
            "Father of the Bride Part II (1995): [[3.6964417]]\n",
            "Jumanji (1995): [[3.6938334]]\n",
            "Powder (1995): [[3.691789]]\n",
            "To Die For (1995): [[3.688933]]\n",
            "Muppet Treasure Island (1996): [[3.6880503]]\n",
            "Assassins (1995): [[3.6880484]]\n",
            "Beautiful Girls (1996): [[3.687158]]\n",
            "Nick of Time (1995): [[3.6861703]]\n",
            "Clueless (1995): [[3.6807313]]\n",
            "Bio-Dome (1996): [[3.679596]]\n",
            "Heat (1995): [[3.6795835]]\n",
            "Vampire in Brooklyn (1995): [[3.678592]]\n",
            "Four Rooms (1995): [[3.6737695]]\n",
            "White Squall (1996): [[3.672992]]\n",
            "Dead Presidents (1995): [[3.6718004]]\n",
            "Casino (1995): [[3.671691]]\n",
            "Eye for an Eye (1996): [[3.669945]]\n",
            "Sudden Death (1995): [[3.6692379]]\n",
            "Money Train (1995): [[3.6655471]]\n",
            "Bridges of Madison County, The (1995): [[3.6644125]]\n",
            "Ace Ventura: When Nature Calls (1995): [[3.6634502]]\n",
            "Angels and Insects (1995): [[3.6615076]]\n",
            "Two if by Sea (1996): [[3.657163]]\n",
            "Leaving Las Vegas (1995): [[3.6540685]]\n",
            "Dead Man Walking (1995): [[3.6529133]]\n",
            "Unforgettable (1996): [[3.6497805]]\n",
            "Nico Icon (1995): [[3.6458628]]\n",
            "Misérables, Les (1995): [[3.6457865]]\n",
            "Screamers (1995): [[3.6450226]]\n",
            "Copycat (1995): [[3.6440144]]\n",
            "Get Shorty (1995): [[3.6431453]]\n",
            "Restoration (1995): [[3.6402047]]\n",
            "Pocahontas (1995): [[3.638548]]\n",
            "Dangerous Minds (1995): [[3.6331744]]\n",
            "French Twist (Gazon maudit) (1995): [[3.6243744]]\n",
            "Mr. Wrong (1996): [[3.6236694]]\n"
          ]
        }
      ]
    }
  ],
  "metadata": {
    "colab": {
      "name": "model-attempt-3.ipynb",
      "provenance": [],
      "include_colab_link": true
    },
    "kernelspec": {
      "display_name": "Python 3",
      "name": "python3"
    }
  },
  "nbformat": 4,
  "nbformat_minor": 0
}